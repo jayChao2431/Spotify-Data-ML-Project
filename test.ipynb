{
 "cells": [
  {
   "cell_type": "markdown",
   "metadata": {},
   "source": [
    "## **Step 5: Performance Evaluation**  \n",
    "\n",
    "- Load Test Data\n",
    "\n",
    "    - Load the original dataset\n",
    "    - Apply the same preprocessing pipeline used in training.ipynb\n",
    "    - Extract the 20% test set (the same as used during training)\n",
    "    - Load Trained Models & Pipeline\n",
    "\n",
    "- Load the saved classification model\n",
    "- Load the saved regression model\n",
    "- Load the preprocessing pipeline\n",
    "\n",
    "**Evaluate Classification Model**\n",
    "\n",
    "- Generate predictions on the test set. Compute:\n",
    "    - Accuracy\n",
    "    - Precision, Recall, F1-score\n",
    "    - Confusion Matrix\n",
    "    - ROC-AUC Curve\n",
    "\n",
    "**Evaluate Regression Model**\n",
    "\n",
    "- Generate predictions on the test set. Compute:\n",
    "    - R² (Coefficient of Determination)\n",
    "    - MAE (Mean Absolute Error)\n",
    "    - MSE (Mean Squared Error)\n",
    "    - RMSE (Root Mean Squared Error)\n",
    "\n",
    "**``Task 6. After completing all steps above, provide the following:``**\n",
    "\n",
    "- Compare models and justify which one is better for each task.\n",
    "- At least one visualizations per classification tasks (e.g., confusion matrix, ROC curve, precision-recall curves).  "
   ]
  },
  {
   "cell_type": "code",
   "execution_count": 1,
   "metadata": {},
   "outputs": [],
   "source": [
    "import pandas as pd\n",
    "import joblib\n",
    "from sklearn.model_selection import train_test_split\n",
    "from sklearn.metrics import accuracy_score, precision_score, recall_score, f1_score, confusion_matrix, roc_auc_score, roc_curve\n",
    "from sklearn.metrics import r2_score, mean_absolute_error, mean_squared_error,precision_recall_fscore_support\n",
    "import matplotlib.pyplot as plt\n",
    "import numpy as np\n",
    "import seaborn as sns\n",
    "from utility import DataCleaner\n",
    "\n",
    "df = pd.read_csv('Spotify_Song_Attributes.csv')\n",
    "\n"
   ]
  },
  {
   "cell_type": "code",
   "execution_count": 2,
   "metadata": {},
   "outputs": [
    {
     "name": "stdout",
     "output_type": "stream",
     "text": [
      "<class 'pandas.core.frame.DataFrame'>\n",
      "RangeIndex: 10080 entries, 0 to 10079\n",
      "Data columns (total 22 columns):\n",
      " #   Column            Non-Null Count  Dtype  \n",
      "---  ------            --------------  -----  \n",
      " 0   trackName         10080 non-null  object \n",
      " 1   artistName        10080 non-null  object \n",
      " 2   msPlayed          10080 non-null  int64  \n",
      " 3   genre             8580 non-null   object \n",
      " 4   danceability      9530 non-null   float64\n",
      " 5   energy            9530 non-null   float64\n",
      " 6   key               9530 non-null   float64\n",
      " 7   loudness          9530 non-null   float64\n",
      " 8   mode              9530 non-null   float64\n",
      " 9   speechiness       9530 non-null   float64\n",
      " 10  acousticness      9530 non-null   float64\n",
      " 11  instrumentalness  9530 non-null   float64\n",
      " 12  liveness          9530 non-null   float64\n",
      " 13  valence           9530 non-null   float64\n",
      " 14  tempo             9530 non-null   float64\n",
      " 15  type              9530 non-null   object \n",
      " 16  id                9530 non-null   object \n",
      " 17  uri               9530 non-null   object \n",
      " 18  track_href        9530 non-null   object \n",
      " 19  analysis_url      9530 non-null   object \n",
      " 20  duration_ms       9530 non-null   float64\n",
      " 21  time_signature    9530 non-null   float64\n",
      "dtypes: float64(13), int64(1), object(8)\n",
      "memory usage: 1.7+ MB\n"
     ]
    }
   ],
   "source": [
    "df.info()"
   ]
  },
  {
   "cell_type": "code",
   "execution_count": 3,
   "metadata": {},
   "outputs": [],
   "source": [
    "data_cleaning_pipeline=joblib.load('cleaning_pipeline.pkl')\n"
   ]
  },
  {
   "cell_type": "code",
   "execution_count": 4,
   "metadata": {},
   "outputs": [
    {
     "name": "stderr",
     "output_type": "stream",
     "text": [
      "/Users/chaotzuchieh/Documents/GitHub/project-1-TzuChieh_Chao/venv/lib/python3.12/site-packages/sklearn/pipeline.py:62: FutureWarning: This Pipeline instance is not fitted yet. Call 'fit' with appropriate arguments before using other methods such as transform, predict, etc. This will raise an error in 1.8 instead of the current warning.\n",
      "  warnings.warn(\n"
     ]
    }
   ],
   "source": [
    "df = data_cleaning_pipeline.transform(df)"
   ]
  },
  {
   "cell_type": "code",
   "execution_count": 5,
   "metadata": {},
   "outputs": [
    {
     "name": "stdout",
     "output_type": "stream",
     "text": [
      "<class 'pandas.core.frame.DataFrame'>\n",
      "Index: 4261 entries, 1 to 5039\n",
      "Data columns (total 22 columns):\n",
      " #   Column            Non-Null Count  Dtype  \n",
      "---  ------            --------------  -----  \n",
      " 0   trackName         4261 non-null   object \n",
      " 1   artistName        4261 non-null   object \n",
      " 2   msPlayed          4261 non-null   int64  \n",
      " 3   genre             4261 non-null   object \n",
      " 4   danceability      4261 non-null   float64\n",
      " 5   energy            4261 non-null   float64\n",
      " 6   key               4261 non-null   float64\n",
      " 7   loudness          4261 non-null   float64\n",
      " 8   mode              4261 non-null   float64\n",
      " 9   speechiness       4261 non-null   float64\n",
      " 10  acousticness      4261 non-null   float64\n",
      " 11  instrumentalness  4261 non-null   float64\n",
      " 12  liveness          4261 non-null   float64\n",
      " 13  valence           4261 non-null   float64\n",
      " 14  tempo             4261 non-null   float64\n",
      " 15  type              4261 non-null   object \n",
      " 16  id                4261 non-null   object \n",
      " 17  uri               4261 non-null   object \n",
      " 18  track_href        4261 non-null   object \n",
      " 19  analysis_url      4261 non-null   object \n",
      " 20  duration_ms       4261 non-null   float64\n",
      " 21  time_signature    4261 non-null   float64\n",
      "dtypes: float64(13), int64(1), object(8)\n",
      "memory usage: 765.6+ KB\n"
     ]
    }
   ],
   "source": [
    "df.info()"
   ]
  },
  {
   "cell_type": "code",
   "execution_count": 6,
   "metadata": {},
   "outputs": [
    {
     "data": {
      "text/html": [
       "<div>\n",
       "<style scoped>\n",
       "    .dataframe tbody tr th:only-of-type {\n",
       "        vertical-align: middle;\n",
       "    }\n",
       "\n",
       "    .dataframe tbody tr th {\n",
       "        vertical-align: top;\n",
       "    }\n",
       "\n",
       "    .dataframe thead th {\n",
       "        text-align: right;\n",
       "    }\n",
       "</style>\n",
       "<table border=\"1\" class=\"dataframe\">\n",
       "  <thead>\n",
       "    <tr style=\"text-align: right;\">\n",
       "      <th></th>\n",
       "      <th>trackName</th>\n",
       "      <th>artistName</th>\n",
       "      <th>msPlayed</th>\n",
       "      <th>genre</th>\n",
       "      <th>danceability</th>\n",
       "      <th>energy</th>\n",
       "      <th>key</th>\n",
       "      <th>loudness</th>\n",
       "      <th>mode</th>\n",
       "      <th>speechiness</th>\n",
       "      <th>...</th>\n",
       "      <th>liveness</th>\n",
       "      <th>valence</th>\n",
       "      <th>tempo</th>\n",
       "      <th>type</th>\n",
       "      <th>id</th>\n",
       "      <th>uri</th>\n",
       "      <th>track_href</th>\n",
       "      <th>analysis_url</th>\n",
       "      <th>duration_ms</th>\n",
       "      <th>time_signature</th>\n",
       "    </tr>\n",
       "  </thead>\n",
       "  <tbody>\n",
       "    <tr>\n",
       "      <th>1</th>\n",
       "      <td>\"In The Hall Of The Mountain King\" from Peer G...</td>\n",
       "      <td>London Symphony Orchestra</td>\n",
       "      <td>1806234</td>\n",
       "      <td>british orchestra</td>\n",
       "      <td>0.475</td>\n",
       "      <td>0.130</td>\n",
       "      <td>7.0</td>\n",
       "      <td>-17.719</td>\n",
       "      <td>1.0</td>\n",
       "      <td>0.0510</td>\n",
       "      <td>...</td>\n",
       "      <td>0.1010</td>\n",
       "      <td>0.122</td>\n",
       "      <td>112.241</td>\n",
       "      <td>audio_features</td>\n",
       "      <td>14Qcrx6Dfjvcj0H8oV8oUW</td>\n",
       "      <td>spotify:track:14Qcrx6Dfjvcj0H8oV8oUW</td>\n",
       "      <td>https://api.spotify.com/v1/tracks/14Qcrx6Dfjvc...</td>\n",
       "      <td>https://api.spotify.com/v1/audio-analysis/14Qc...</td>\n",
       "      <td>150827.0</td>\n",
       "      <td>4.0</td>\n",
       "    </tr>\n",
       "    <tr>\n",
       "      <th>2</th>\n",
       "      <td>#BrooklynBloodPop!</td>\n",
       "      <td>SyKo</td>\n",
       "      <td>145610</td>\n",
       "      <td>glitchcore</td>\n",
       "      <td>0.691</td>\n",
       "      <td>0.814</td>\n",
       "      <td>1.0</td>\n",
       "      <td>-3.788</td>\n",
       "      <td>0.0</td>\n",
       "      <td>0.1170</td>\n",
       "      <td>...</td>\n",
       "      <td>0.3660</td>\n",
       "      <td>0.509</td>\n",
       "      <td>132.012</td>\n",
       "      <td>audio_features</td>\n",
       "      <td>7K9Z3yFNNLv5kwTjQYGjnu</td>\n",
       "      <td>spotify:track:7K9Z3yFNNLv5kwTjQYGjnu</td>\n",
       "      <td>https://api.spotify.com/v1/tracks/7K9Z3yFNNLv5...</td>\n",
       "      <td>https://api.spotify.com/v1/audio-analysis/7K9Z...</td>\n",
       "      <td>145611.0</td>\n",
       "      <td>4.0</td>\n",
       "    </tr>\n",
       "    <tr>\n",
       "      <th>3</th>\n",
       "      <td>$10</td>\n",
       "      <td>Good Morning</td>\n",
       "      <td>25058</td>\n",
       "      <td>experimental pop</td>\n",
       "      <td>0.624</td>\n",
       "      <td>0.596</td>\n",
       "      <td>4.0</td>\n",
       "      <td>-9.804</td>\n",
       "      <td>1.0</td>\n",
       "      <td>0.0314</td>\n",
       "      <td>...</td>\n",
       "      <td>0.1190</td>\n",
       "      <td>0.896</td>\n",
       "      <td>120.969</td>\n",
       "      <td>audio_features</td>\n",
       "      <td>3koAwrM1RO0TGMeQJ3qt9J</td>\n",
       "      <td>spotify:track:3koAwrM1RO0TGMeQJ3qt9J</td>\n",
       "      <td>https://api.spotify.com/v1/tracks/3koAwrM1RO0T...</td>\n",
       "      <td>https://api.spotify.com/v1/audio-analysis/3koA...</td>\n",
       "      <td>89509.0</td>\n",
       "      <td>4.0</td>\n",
       "    </tr>\n",
       "    <tr>\n",
       "      <th>4</th>\n",
       "      <td>(I Just) Died In Your Arms</td>\n",
       "      <td>Cutting Crew</td>\n",
       "      <td>5504949</td>\n",
       "      <td>album rock</td>\n",
       "      <td>0.625</td>\n",
       "      <td>0.726</td>\n",
       "      <td>11.0</td>\n",
       "      <td>-11.402</td>\n",
       "      <td>0.0</td>\n",
       "      <td>0.0444</td>\n",
       "      <td>...</td>\n",
       "      <td>0.0625</td>\n",
       "      <td>0.507</td>\n",
       "      <td>124.945</td>\n",
       "      <td>audio_features</td>\n",
       "      <td>4ByEFOBuLXpCqvO1kw8Wdm</td>\n",
       "      <td>spotify:track:4ByEFOBuLXpCqvO1kw8Wdm</td>\n",
       "      <td>https://api.spotify.com/v1/tracks/4ByEFOBuLXpC...</td>\n",
       "      <td>https://api.spotify.com/v1/audio-analysis/4ByE...</td>\n",
       "      <td>280400.0</td>\n",
       "      <td>4.0</td>\n",
       "    </tr>\n",
       "    <tr>\n",
       "      <th>5</th>\n",
       "      <td>(L)only Child</td>\n",
       "      <td>salem ilese</td>\n",
       "      <td>2237969</td>\n",
       "      <td>alt z</td>\n",
       "      <td>0.645</td>\n",
       "      <td>0.611</td>\n",
       "      <td>8.0</td>\n",
       "      <td>-5.925</td>\n",
       "      <td>0.0</td>\n",
       "      <td>0.1370</td>\n",
       "      <td>...</td>\n",
       "      <td>0.2370</td>\n",
       "      <td>0.645</td>\n",
       "      <td>157.475</td>\n",
       "      <td>audio_features</td>\n",
       "      <td>22lJaG2yxlSjIwdUIddcFk</td>\n",
       "      <td>spotify:track:22lJaG2yxlSjIwdUIddcFk</td>\n",
       "      <td>https://api.spotify.com/v1/tracks/22lJaG2yxlSj...</td>\n",
       "      <td>https://api.spotify.com/v1/audio-analysis/22lJ...</td>\n",
       "      <td>144468.0</td>\n",
       "      <td>3.0</td>\n",
       "    </tr>\n",
       "  </tbody>\n",
       "</table>\n",
       "<p>5 rows × 22 columns</p>\n",
       "</div>"
      ],
      "text/plain": [
       "                                           trackName  \\\n",
       "1  \"In The Hall Of The Mountain King\" from Peer G...   \n",
       "2                                 #BrooklynBloodPop!   \n",
       "3                                                $10   \n",
       "4                         (I Just) Died In Your Arms   \n",
       "5                                      (L)only Child   \n",
       "\n",
       "                  artistName  msPlayed              genre  danceability  \\\n",
       "1  London Symphony Orchestra   1806234  british orchestra         0.475   \n",
       "2                       SyKo    145610         glitchcore         0.691   \n",
       "3               Good Morning     25058   experimental pop         0.624   \n",
       "4               Cutting Crew   5504949         album rock         0.625   \n",
       "5                salem ilese   2237969              alt z         0.645   \n",
       "\n",
       "   energy   key  loudness  mode  speechiness  ...  liveness  valence    tempo  \\\n",
       "1   0.130   7.0   -17.719   1.0       0.0510  ...    0.1010    0.122  112.241   \n",
       "2   0.814   1.0    -3.788   0.0       0.1170  ...    0.3660    0.509  132.012   \n",
       "3   0.596   4.0    -9.804   1.0       0.0314  ...    0.1190    0.896  120.969   \n",
       "4   0.726  11.0   -11.402   0.0       0.0444  ...    0.0625    0.507  124.945   \n",
       "5   0.611   8.0    -5.925   0.0       0.1370  ...    0.2370    0.645  157.475   \n",
       "\n",
       "             type                      id  \\\n",
       "1  audio_features  14Qcrx6Dfjvcj0H8oV8oUW   \n",
       "2  audio_features  7K9Z3yFNNLv5kwTjQYGjnu   \n",
       "3  audio_features  3koAwrM1RO0TGMeQJ3qt9J   \n",
       "4  audio_features  4ByEFOBuLXpCqvO1kw8Wdm   \n",
       "5  audio_features  22lJaG2yxlSjIwdUIddcFk   \n",
       "\n",
       "                                    uri  \\\n",
       "1  spotify:track:14Qcrx6Dfjvcj0H8oV8oUW   \n",
       "2  spotify:track:7K9Z3yFNNLv5kwTjQYGjnu   \n",
       "3  spotify:track:3koAwrM1RO0TGMeQJ3qt9J   \n",
       "4  spotify:track:4ByEFOBuLXpCqvO1kw8Wdm   \n",
       "5  spotify:track:22lJaG2yxlSjIwdUIddcFk   \n",
       "\n",
       "                                          track_href  \\\n",
       "1  https://api.spotify.com/v1/tracks/14Qcrx6Dfjvc...   \n",
       "2  https://api.spotify.com/v1/tracks/7K9Z3yFNNLv5...   \n",
       "3  https://api.spotify.com/v1/tracks/3koAwrM1RO0T...   \n",
       "4  https://api.spotify.com/v1/tracks/4ByEFOBuLXpC...   \n",
       "5  https://api.spotify.com/v1/tracks/22lJaG2yxlSj...   \n",
       "\n",
       "                                        analysis_url duration_ms  \\\n",
       "1  https://api.spotify.com/v1/audio-analysis/14Qc...    150827.0   \n",
       "2  https://api.spotify.com/v1/audio-analysis/7K9Z...    145611.0   \n",
       "3  https://api.spotify.com/v1/audio-analysis/3koA...     89509.0   \n",
       "4  https://api.spotify.com/v1/audio-analysis/4ByE...    280400.0   \n",
       "5  https://api.spotify.com/v1/audio-analysis/22lJ...    144468.0   \n",
       "\n",
       "  time_signature  \n",
       "1            4.0  \n",
       "2            4.0  \n",
       "3            4.0  \n",
       "4            4.0  \n",
       "5            3.0  \n",
       "\n",
       "[5 rows x 22 columns]"
      ]
     },
     "execution_count": 6,
     "metadata": {},
     "output_type": "execute_result"
    }
   ],
   "source": [
    "df.head()"
   ]
  },
  {
   "cell_type": "code",
   "execution_count": 7,
   "metadata": {},
   "outputs": [],
   "source": [
    "classification_preprocessing_pipeline= joblib.load('cls_preprocessor.pkl')\n",
    "regression_preprocessing_pipeline= joblib.load('reg_preprocessor.pkl')"
   ]
  },
  {
   "cell_type": "code",
   "execution_count": 8,
   "metadata": {},
   "outputs": [],
   "source": [
    "logreg_model = joblib.load('best_logreg_model_danceability.pkl')\n",
    "rf_classifer = joblib.load('best_rf_model_danceability.pkl')\n",
    "\n",
    "\n",
    "linear_regression_model = joblib.load('linear_regression_model.pkl')\n",
    "ridge_linear_model = joblib.load('ridge_model.pkl')\n",
    "lasso_linear_model = joblib.load('lasso_model.pkl')\n",
    "GridSearch_decision_tree = joblib.load('best_GridSearch_decision_tree_model.pkl')\n",
    "RandomizedSearch_decision_tree = joblib.load('best_RandomizedSearch_decision_tree_model.pkl')"
   ]
  },
  {
   "cell_type": "markdown",
   "metadata": {},
   "source": [
    "# Classification"
   ]
  },
  {
   "cell_type": "code",
   "execution_count": 9,
   "metadata": {},
   "outputs": [],
   "source": [
    "cls_x_test = pd.read_csv('df_cls_x_test.csv')\n",
    "cls_y_test = pd.read_csv('df_cls_y_test.csv')"
   ]
  },
  {
   "cell_type": "markdown",
   "metadata": {},
   "source": [
    "## Logistic regression"
   ]
  },
  {
   "cell_type": "code",
   "execution_count": 10,
   "metadata": {},
   "outputs": [
    {
     "name": "stdout",
     "output_type": "stream",
     "text": [
      "Logistic Regression\n",
      "Accuracy: 0.7456037514654161\n",
      "Precision: 0.5447154471544715\n",
      "Recall: 0.29385964912280704\n",
      "F1 Score: 0.3817663817663818\n",
      "Confusion Matrix: [[569  56]\n",
      " [161  67]]\n"
     ]
    },
    {
     "data": {
      "image/png": "[encoded data removed]",
      "text/plain": [
       "<Figure size 640x480 with 2 Axes>"
      ]
     },
     "metadata": {},
     "output_type": "display_data"
    }
   ],
   "source": [
    "y1_pred_log_reg = logreg_model.predict(cls_x_test)\n",
    "y1_pred_log_reg_proba = logreg_model.predict_proba(cls_x_test)\n",
    "\n",
    "\n",
    "print('Logistic Regression')\n",
    "print('Accuracy:', accuracy_score(cls_y_test, y1_pred_log_reg))\n",
    "print('Precision:', precision_recall_fscore_support(cls_y_test, y1_pred_log_reg, average='binary')[0])\n",
    "print('Recall:', precision_recall_fscore_support(cls_y_test, y1_pred_log_reg, average='binary')[1])\n",
    "print('F1 Score:', precision_recall_fscore_support(cls_y_test, y1_pred_log_reg, average='binary')[2])\n",
    "print('Confusion Matrix:', confusion_matrix(cls_y_test, y1_pred_log_reg))\n",
    "\n",
    "\n",
    "cm = confusion_matrix(cls_y_test, y1_pred_log_reg)\n",
    "sns.heatmap(cm, annot=True, fmt='d')\n",
    "plt.xlabel('Predicted')\n",
    "plt.ylabel('Actual')\n",
    "plt.title('Confusion Matrix')\n",
    "plt.show()"
   ]
  },
  {
   "cell_type": "markdown",
   "metadata": {},
   "source": [
    "## Random Forest Classifier"
   ]
  },
  {
   "cell_type": "code",
   "execution_count": 11,
   "metadata": {},
   "outputs": [
    {
     "name": "stdout",
     "output_type": "stream",
     "text": [
      "Random Forest\n",
      "Accuracy: 0.7549824150058617\n",
      "Precision: 0.5714285714285714\n",
      "Recall: 0.3333333333333333\n",
      "F1 Score: 0.42105263157894735\n",
      "Confusion Matrix: [[568  57]\n",
      " [152  76]]\n"
     ]
    },
    {
     "data": {
      "text/plain": [
       "Text(0.5, 1.0, 'confusion matrix')"
      ]
     },
     "execution_count": 11,
     "metadata": {},
     "output_type": "execute_result"
    },
    {
     "data": {
      "image/png": "[encoded data removed]",
      "text/plain": [
       "<Figure size 640x480 with 2 Axes>"
      ]
     },
     "metadata": {},
     "output_type": "display_data"
    }
   ],
   "source": [
    "y1_pred_rand_for=rf_classifer.predict(cls_x_test)\n",
    "y1_pred_rand_for_proba=rf_classifer.predict_proba(cls_x_test)[:,1]\n",
    "\n",
    "print('Random Forest')\n",
    "print('Accuracy:',accuracy_score(cls_y_test,y1_pred_rand_for))\n",
    "print('Precision:',precision_recall_fscore_support(cls_y_test,y1_pred_rand_for,average='binary')[0])\n",
    "print('Recall:',precision_recall_fscore_support(cls_y_test,y1_pred_rand_for,average='binary')[1])\n",
    "print('F1 Score:',precision_recall_fscore_support(cls_y_test,y1_pred_rand_for,average='binary')[2])\n",
    "print('Confusion Matrix:',confusion_matrix(cls_y_test,y1_pred_rand_for))\n",
    "cm=confusion_matrix(cls_y_test,y1_pred_rand_for)\n",
    "sns.heatmap(cm,annot=True,fmt='d')\n",
    "plt.xlabel('predicted')\n",
    "plt.ylabel('actual')\n",
    "plt.title('confusion matrix')"
   ]
  },
  {
   "cell_type": "markdown",
   "metadata": {},
   "source": [
    "-----------"
   ]
  },
  {
   "cell_type": "markdown",
   "metadata": {},
   "source": [
    "# Regression"
   ]
  },
  {
   "cell_type": "code",
   "execution_count": 12,
   "metadata": {},
   "outputs": [],
   "source": [
    "reg_x_test = pd.read_csv('df_reg_x_test.csv')\n",
    "reg_y_test = pd.read_csv('df_reg_y_test.csv')"
   ]
  },
  {
   "cell_type": "markdown",
   "metadata": {},
   "source": [
    "## Linear Regression"
   ]
  },
  {
   "cell_type": "code",
   "execution_count": 13,
   "metadata": {},
   "outputs": [
    {
     "name": "stdout",
     "output_type": "stream",
     "text": [
      "Linear Regression\n",
      "R2 Score: 0.3602056987416682\n",
      "Mean Absolute Error: 0.15229598307314432\n",
      "Mean Squared Error: 0.03626068026938245\n",
      "Root Mean Squared Error: 0.190422373342479\n"
     ]
    }
   ],
   "source": [
    "y2_pred_lig_reg=linear_regression_model.predict(reg_x_test)\n",
    "print('Linear Regression')\n",
    "print('R2 Score:',r2_score(reg_y_test,y2_pred_lig_reg))\n",
    "print('Mean Absolute Error:',mean_absolute_error(reg_y_test,y2_pred_lig_reg))\n",
    "print('Mean Squared Error:',mean_squared_error(reg_y_test,y2_pred_lig_reg))\n",
    "print('Root Mean Squared Error:',np.sqrt(mean_squared_error(reg_y_test,y2_pred_lig_reg)))"
   ]
  },
  {
   "cell_type": "markdown",
   "metadata": {},
   "source": [
    "## Linear Regression(Ridge)"
   ]
  },
  {
   "cell_type": "code",
   "execution_count": 14,
   "metadata": {},
   "outputs": [
    {
     "name": "stdout",
     "output_type": "stream",
     "text": [
      "Linear Regression(Ridge)\n",
      "R2 Score: 0.35670687196360706\n",
      "Mean Absolute Error: 0.15419020882149784\n",
      "Mean Squared Error: 0.03645897812678397\n",
      "Root Mean Squared Error: 0.19094234241462518\n"
     ]
    }
   ],
   "source": [
    "y2_pred_lig_reg=ridge_linear_model.predict(reg_x_test)\n",
    "print('Linear Regression(Ridge)')\n",
    "print('R2 Score:',r2_score(reg_y_test,y2_pred_lig_reg))\n",
    "print('Mean Absolute Error:',mean_absolute_error(reg_y_test,y2_pred_lig_reg))\n",
    "print('Mean Squared Error:',mean_squared_error(reg_y_test,y2_pred_lig_reg))\n",
    "print('Root Mean Squared Error:',np.sqrt(mean_squared_error(reg_y_test,y2_pred_lig_reg)))"
   ]
  },
  {
   "cell_type": "markdown",
   "metadata": {},
   "source": [
    "## Linear Regression(Lasso)\n"
   ]
  },
  {
   "cell_type": "code",
   "execution_count": 15,
   "metadata": {},
   "outputs": [
    {
     "name": "stdout",
     "output_type": "stream",
     "text": [
      "Linear Regression(Lasso)\n",
      "R2 Score: 0.35649835874578195\n",
      "Mean Absolute Error: 0.15423930116020515\n",
      "Mean Squared Error: 0.03647079572364069\n",
      "Root Mean Squared Error: 0.19097328536641112\n"
     ]
    }
   ],
   "source": [
    "y2_pred_lig_reg=lasso_linear_model.predict(reg_x_test)\n",
    "print('Linear Regression(Lasso)')\n",
    "print('R2 Score:',r2_score(reg_y_test,y2_pred_lig_reg))\n",
    "print('Mean Absolute Error:',mean_absolute_error(reg_y_test,y2_pred_lig_reg))\n",
    "print('Mean Squared Error:',mean_squared_error(reg_y_test,y2_pred_lig_reg))\n",
    "print('Root Mean Squared Error:',np.sqrt(mean_squared_error(reg_y_test,y2_pred_lig_reg)))"
   ]
  },
  {
   "cell_type": "markdown",
   "metadata": {},
   "source": [
    "## DecisionTreeRegressor(GridSearchCV)"
   ]
  },
  {
   "cell_type": "code",
   "execution_count": 16,
   "metadata": {},
   "outputs": [
    {
     "name": "stdout",
     "output_type": "stream",
     "text": [
      "Decision Tree\n",
      "R2 Score: 0.2950428441908042\n",
      "Mean Absolute Error: 0.16042207583291546\n",
      "Mean Squared Error: 0.03995381950126051\n",
      "Root Mean Squared Error: 0.19988451541142577\n"
     ]
    }
   ],
   "source": [
    "y2_pred_decision_tree=GridSearch_decision_tree.predict(reg_x_test)\n",
    "print('Decision Tree')\n",
    "print('R2 Score:',r2_score(reg_y_test,y2_pred_decision_tree))\n",
    "print('Mean Absolute Error:',mean_absolute_error(reg_y_test,y2_pred_decision_tree))\n",
    "print('Mean Squared Error:',mean_squared_error(reg_y_test,y2_pred_decision_tree))\n",
    "print('Root Mean Squared Error:',np.sqrt(mean_squared_error(reg_y_test,y2_pred_decision_tree)))"
   ]
  },
  {
   "cell_type": "markdown",
   "metadata": {},
   "source": [
    "## DecisionTreeRegressor(RandomizedSearchCV)"
   ]
  },
  {
   "cell_type": "code",
   "execution_count": 17,
   "metadata": {},
   "outputs": [
    {
     "name": "stdout",
     "output_type": "stream",
     "text": [
      "Decision Tree\n",
      "R2 Score: 0.2509975738287197\n",
      "Mean Absolute Error: 0.16550395583307478\n",
      "Mean Squared Error: 0.04245010848482428\n",
      "Root Mean Squared Error: 0.20603424104945342\n"
     ]
    }
   ],
   "source": [
    "y2_pred_decision_tree=RandomizedSearch_decision_tree.predict(reg_x_test)\n",
    "print('Decision Tree')\n",
    "print('R2 Score:',r2_score(reg_y_test,y2_pred_decision_tree))\n",
    "print('Mean Absolute Error:',mean_absolute_error(reg_y_test,y2_pred_decision_tree))\n",
    "print('Mean Squared Error:',mean_squared_error(reg_y_test,y2_pred_decision_tree))\n",
    "print('Root Mean Squared Error:',np.sqrt(mean_squared_error(reg_y_test,y2_pred_decision_tree)))"
   ]
  },
  {
   "cell_type": "markdown",
   "metadata": {},
   "source": [
    "# Analysis of Models"
   ]
  },
  {
   "cell_type": "markdown",
   "metadata": {},
   "source": [
    "## Classification"
   ]
  },
  {
   "cell_type": "markdown",
   "metadata": {},
   "source": [
    "**The results indicated that the Random Forest classifier outperformed the Logistic Regression model.** "
   ]
  },
  {
   "cell_type": "markdown",
   "metadata": {},
   "source": [
    "## Regression"
   ]
  },
  {
   "cell_type": "markdown",
   "metadata": {},
   "source": [
    " **I implemented several machine learning regression models aimed at predicting valence to determine which model exhibited superior performance. However, it is noteworthy that none of the models yielded satisfactory results, with linear regression emerging as the most effective option.**"
   ]
  }
 ],
 "metadata": {
  "kernelspec": {
   "display_name": "venv",
   "language": "python",
   "name": "python3"
  },
  "language_info": {
   "codemirror_mode": {
    "name": "ipython",
    "version": 3
   },
   "file_extension": ".py",
   "mimetype": "text/x-python",
   "name": "python",
   "nbconvert_exporter": "python",
   "pygments_lexer": "ipython3",
   "version": "3.12.5"
  }
 },
 "nbformat": 4,
 "nbformat_minor": 2
}
